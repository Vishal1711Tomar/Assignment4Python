{
 "cells": [
  {
   "cell_type": "code",
   "execution_count": 3,
   "id": "7a42e9cb-49e2-4809-93b6-2cb76c175dd0",
   "metadata": {},
   "outputs": [
    {
     "name": "stdout",
     "output_type": "stream",
     "text": [
      "Contents of 'sample.txt':\n",
      "\n",
      "Hello Coder\n",
      "I am Vishal Tomar\n",
      "Error: The file 'samples.txt' does not exist.\n"
     ]
    }
   ],
   "source": [
    "def read_file(filename):\n",
    "    try:\n",
    "        with open(filename, 'r') as file:\n",
    "            print(f\"Contents of '{filename}':\\n\")\n",
    "            for line in file:\n",
    "                print(line.strip())\n",
    "    except FileNotFoundError:\n",
    "        print(f\"Error: The file '{filename}' does not exist.\")\n",
    "\n",
    "read_file('sample.txt')\n",
    "read_file('samples.txt')"
   ]
  },
  {
   "cell_type": "code",
   "execution_count": 4,
   "id": "e3ad93d7-bbaf-46dd-a74b-9e5f94206f15",
   "metadata": {},
   "outputs": [
    {
     "name": "stdout",
     "output_type": "stream",
     "text": [
      "\n",
      "Initial contents of 'sample.txt':\n",
      "Hello Coder\n",
      "I am Vishal Tomar\n"
     ]
    },
    {
     "name": "stdin",
     "output_type": "stream",
     "text": [
      "Enter some text to write to the file:  This is my Python Assignment\n",
      "Enter additional text to append to the file:  Assignment is on the topics related to Read and Write content on file through code\n"
     ]
    },
    {
     "name": "stdout",
     "output_type": "stream",
     "text": [
      "\n",
      "Final contents of 'sample.txt':\n",
      "This is my Python Assignment\n",
      "Assignment is on the topics related to Read and Write content on file through code\n"
     ]
    }
   ],
   "source": [
    "def write_and_append_file(filename):\n",
    "     # Read and display the  initial content\n",
    "    print(f\"\\nInitial contents of '{filename}':\")\n",
    "    with open(filename, 'r') as file:\n",
    "        for line in file:\n",
    "            print(line.strip())\n",
    "    #  Write user input to the file\n",
    "    user_input = input(\"Enter some text to write to the file: \")\n",
    "    with open(filename, 'w') as file:\n",
    "        file.write(user_input + '\\n')\n",
    "    # Append additional data\n",
    "    additional_input = input(\"Enter additional text to append to the file: \")\n",
    "    with open(filename, 'a') as file:\n",
    "        file.write(additional_input + '\\n')\n",
    "    # Read and display the final content\n",
    "    print(f\"\\nFinal contents of '{filename}':\")\n",
    "    with open(filename, 'r') as file:\n",
    "        for line in file:\n",
    "            print(line.strip())\n",
    "write_and_append_file('sample.txt')"
   ]
  },
  {
   "cell_type": "code",
   "execution_count": null,
   "id": "203f7871-a328-4391-8d93-7895548e7433",
   "metadata": {},
   "outputs": [],
   "source": []
  }
 ],
 "metadata": {
  "kernelspec": {
   "display_name": "Python [conda env:base] *",
   "language": "python",
   "name": "conda-base-py"
  },
  "language_info": {
   "codemirror_mode": {
    "name": "ipython",
    "version": 3
   },
   "file_extension": ".py",
   "mimetype": "text/x-python",
   "name": "python",
   "nbconvert_exporter": "python",
   "pygments_lexer": "ipython3",
   "version": "3.12.7"
  }
 },
 "nbformat": 4,
 "nbformat_minor": 5
}
